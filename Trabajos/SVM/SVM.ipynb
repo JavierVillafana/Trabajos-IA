{
  "nbformat": 4,
  "nbformat_minor": 0,
  "metadata": {
    "colab": {
      "provenance": []
    },
    "kernelspec": {
      "name": "python3",
      "display_name": "Python 3"
    },
    "language_info": {
      "name": "python"
    }
  },
  "cells": [
    {
      "cell_type": "code",
      "execution_count": 2,
      "metadata": {
        "colab": {
          "base_uri": "https://localhost:8080/"
        },
        "id": "BpjjhS8u66p7",
        "outputId": "9e3d2dec-5888-49a5-864f-2887b0017164"
      },
      "outputs": [
        {
          "output_type": "stream",
          "name": "stdout",
          "text": [
            "Precisión del modelo SVM: 0.8670520231213873\n",
            "Mejores hiperparámetros encontrados: {'C': 1, 'kernel': 'rbf'}\n"
          ]
        }
      ],
      "source": [
        "import numpy as np\n",
        "import pandas as pd\n",
        "from sklearn.model_selection import train_test_split, GridSearchCV\n",
        "from sklearn.svm import SVC\n",
        "from sklearn.preprocessing import MinMaxScaler\n",
        "from sklearn.feature_selection import SelectKBest, f_classif\n",
        "from sklearn.metrics import accuracy_score\n",
        "\n",
        "# Cargar el dataset desde la URL\n",
        "url = \"https://archive.ics.uci.edu/ml/machine-learning-databases/car/car.data\"\n",
        "column_names = ['buying', 'maint', 'doors', 'persons', 'lug_boot', 'safety', 'class']\n",
        "df = pd.read_csv(url, names=column_names)\n",
        "\n",
        "# Preprocesamiento de los datos\n",
        "# Convertir variables categóricas en numéricas\n",
        "df['buying'] = df['buying'].replace({'vhigh': 4, 'high': 3, 'med': 2, 'low': 1})\n",
        "df['maint'] = df['maint'].replace({'vhigh': 4, 'high': 3, 'med': 2, 'low': 1})\n",
        "df['doors'] = df['doors'].replace({'2': 2, '3': 3, '4': 4, '5more': 5})\n",
        "df['persons'] = df['persons'].replace({'2': 2, '4': 4, 'more': 5})\n",
        "df['lug_boot'] = df['lug_boot'].replace({'small': 1, 'med': 2, 'big': 3})\n",
        "df['safety'] = df['safety'].replace({'low': 1, 'med': 2, 'high': 3})\n",
        "df['class'] = df['class'].replace({'unacc': 0, 'acc': 1, 'good': 2, 'vgood': 3})\n",
        "\n",
        "# Separar características y etiquetas\n",
        "X = df.iloc[:, :-1].values\n",
        "y = df.iloc[:, -1].values\n",
        "\n",
        "# Normalización de características\n",
        "scaler = MinMaxScaler()\n",
        "X = scaler.fit_transform(X)\n",
        "\n",
        "# Selección de características\n",
        "selector = SelectKBest(f_classif, k=4)\n",
        "X = selector.fit_transform(X, y)\n",
        "\n",
        "# Dividir los datos en conjunto de entrenamiento y conjunto de prueba\n",
        "X_train, X_test, y_train, y_test = train_test_split(X, y, test_size=0.2, random_state=42)\n",
        "\n",
        "# Ajuste de hiperparámetros mediante validación cruzada\n",
        "param_grid = {'C': [0.1, 1, 10], 'kernel': ['linear', 'rbf']}\n",
        "svm_model = GridSearchCV(SVC(), param_grid, cv=5)\n",
        "svm_model.fit(X_train, y_train)\n",
        "\n",
        "# Obtener el mejor modelo SVM después de la búsqueda de cuadrícula\n",
        "best_svm_model = svm_model.best_estimator_\n",
        "\n",
        "# Realizar predicciones en el conjunto de prueba\n",
        "y_pred = best_svm_model.predict(X_test)\n",
        "\n",
        "# Calcular la precisión del modelo\n",
        "accuracy = accuracy_score(y_test, y_pred)\n",
        "print(\"Precisión del modelo SVM:\", accuracy)\n",
        "print(\"Mejores hiperparámetros encontrados:\", svm_model.best_params_)\n"
      ]
    }
  ]
}