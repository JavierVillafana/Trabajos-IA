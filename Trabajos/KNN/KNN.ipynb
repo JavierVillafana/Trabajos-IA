{
  "nbformat": 4,
  "nbformat_minor": 0,
  "metadata": {
    "colab": {
      "provenance": []
    },
    "kernelspec": {
      "name": "python3",
      "display_name": "Python 3"
    },
    "language_info": {
      "name": "python"
    }
  },
  "cells": [
    {
      "cell_type": "code",
      "execution_count": 19,
      "metadata": {
        "colab": {
          "base_uri": "https://localhost:8080/"
        },
        "id": "WHCqrP4t3bSr",
        "outputId": "82aad5f7-3e95-40e4-9d10-cdf25dfa4746"
      },
      "outputs": [
        {
          "output_type": "stream",
          "name": "stdout",
          "text": [
            "Precisión del modelo: 0.23086124401913877\n"
          ]
        }
      ],
      "source": [
        "import pandas as pd\n",
        "from sklearn.model_selection import train_test_split\n",
        "from sklearn.preprocessing import LabelEncoder, OneHotEncoder\n",
        "from sklearn.neighbors import KNeighborsClassifier\n",
        "from sklearn.metrics import accuracy_score\n",
        "import requests\n",
        "\n",
        "# Definir la URL del conjunto de datos de Abalon\n",
        "url = \"https://archive.ics.uci.edu/ml/machine-learning-databases/abalone/abalone.data\"\n",
        "\n",
        "# Descargar los datos desde la URL\n",
        "response = requests.get(url).content\n",
        "\n",
        "# Leer los datos en un DataFrame\n",
        "data = pd.read_csv(io.StringIO(response.decode('utf-8')), header=None)\n",
        "\n",
        "# Asignar nombres de columnas al DataFrame\n",
        "data.columns = ['Sex', 'Length', 'Diameter', 'Height', 'Whole weight', 'Shucked weight',\n",
        "                'Viscera weight', 'Shell weight', 'Rings']\n",
        "\n",
        "# Convertir la variable objetivo (Rings) en valores numéricos\n",
        "le = LabelEncoder()\n",
        "data['Rings'] = le.fit_transform(data['Rings'])\n",
        "\n",
        "# Aplicar codificación one-hot a la variable categórica 'Sex'\n",
        "data_encoded = pd.get_dummies(data, columns=['Sex'])\n",
        "\n",
        "# Dividir el conjunto de datos en características (X) y variable objetivo (y)\n",
        "X = data_encoded.drop('Rings', axis=1)\n",
        "y = data_encoded['Rings']\n",
        "\n",
        "# Dividir el conjunto de datos en conjuntos de entrenamiento y prueba\n",
        "X_train, X_test, y_train, y_test = train_test_split(X, y, test_size=0.2, random_state=42)\n",
        "\n",
        "# Crear una instancia del clasificador k-NN con k=3\n",
        "knn = KNeighborsClassifier(n_neighbors=3)\n",
        "\n",
        "# Entrenar el clasificador utilizando el conjunto de entrenamiento\n",
        "knn.fit(X_train, y_train)\n",
        "\n",
        "# Predecir las clases para el conjunto de prueba\n",
        "y_pred = knn.predict(X_test)\n",
        "\n",
        "# Calcular la precisión del modelo\n",
        "accuracy = accuracy_score(y_test, y_pred)\n",
        "print(\"Precisión del modelo:\", accuracy)\n"
      ]
    }
  ]
}